{
 "cells": [
  {
   "cell_type": "markdown",
   "metadata": {},
   "source": [
    "* test the model on a df with an equal number of user types to test how good the model really is at classification"
   ]
  },
  {
   "cell_type": "code",
   "execution_count": 1,
   "metadata": {},
   "outputs": [],
   "source": [
    "import pandas as pd\n",
    "import numpy as np\n",
    "from os.path import dirname, abspath"
   ]
  },
  {
   "cell_type": "code",
   "execution_count": 2,
   "metadata": {},
   "outputs": [
    {
     "data": {
      "text/plain": [
       "(22794, 12)"
      ]
     },
     "execution_count": 2,
     "metadata": {},
     "output_type": "execute_result"
    }
   ],
   "source": [
    "d = dirname(dirname(abspath(\"preprocessing.ipynb\")))\n",
    "df_wokring = pd.read_csv(d + '/data/Semi_processed_data.csv') #nrows = 1000)\n",
    "\n",
    "df = df_wokring.sample(frac=0.03, replace=False, random_state=22) #3% smaple from df for 22794 observations\n",
    "\n",
    "df.head()\n",
    "df.shape"
   ]
  },
  {
   "cell_type": "code",
   "execution_count": 3,
   "metadata": {},
   "outputs": [
    {
     "data": {
      "text/plain": [
       "<function __main__.<lambda>(df)>"
      ]
     },
     "execution_count": 3,
     "metadata": {},
     "output_type": "execute_result"
    }
   ],
   "source": [
    "nans = lambda df: df[df.isnull().any(axis=1)]\n",
    "nans"
   ]
  },
  {
   "cell_type": "code",
   "execution_count": 4,
   "metadata": {},
   "outputs": [],
   "source": [
    "df.drop(['birth year','start station latitude','end station latitude',\n",
    "        'start station longitude', 'end station longitude'], axis = 1, inplace = True)"
   ]
  },
  {
   "cell_type": "code",
   "execution_count": 5,
   "metadata": {},
   "outputs": [
    {
     "name": "stdout",
     "output_type": "stream",
     "text": [
      "(22794, 7)\n"
     ]
    },
    {
     "data": {
      "text/html": [
       "<div>\n",
       "<style scoped>\n",
       "    .dataframe tbody tr th:only-of-type {\n",
       "        vertical-align: middle;\n",
       "    }\n",
       "\n",
       "    .dataframe tbody tr th {\n",
       "        vertical-align: top;\n",
       "    }\n",
       "\n",
       "    .dataframe thead th {\n",
       "        text-align: right;\n",
       "    }\n",
       "</style>\n",
       "<table border=\"1\" class=\"dataframe\">\n",
       "  <thead>\n",
       "    <tr style=\"text-align: right;\">\n",
       "      <th></th>\n",
       "      <th>tripduration</th>\n",
       "      <th>start station name</th>\n",
       "      <th>end station name</th>\n",
       "      <th>usertype</th>\n",
       "      <th>gender</th>\n",
       "      <th>Start Time</th>\n",
       "      <th>End Time</th>\n",
       "    </tr>\n",
       "  </thead>\n",
       "  <tbody>\n",
       "    <tr>\n",
       "      <th>35922</th>\n",
       "      <td>224</td>\n",
       "      <td>Jersey &amp; 6th St</td>\n",
       "      <td>Grove St PATH</td>\n",
       "      <td>Subscriber</td>\n",
       "      <td>1</td>\n",
       "      <td>32214.436</td>\n",
       "      <td>32438.436</td>\n",
       "    </tr>\n",
       "    <tr>\n",
       "      <th>493350</th>\n",
       "      <td>217</td>\n",
       "      <td>Grove St PATH</td>\n",
       "      <td>Marin Light Rail</td>\n",
       "      <td>Subscriber</td>\n",
       "      <td>1</td>\n",
       "      <td>73627.443</td>\n",
       "      <td>73845.094</td>\n",
       "    </tr>\n",
       "    <tr>\n",
       "      <th>558429</th>\n",
       "      <td>680</td>\n",
       "      <td>Riverview Park</td>\n",
       "      <td>Hilltop</td>\n",
       "      <td>Subscriber</td>\n",
       "      <td>1</td>\n",
       "      <td>76253.519</td>\n",
       "      <td>76934.417</td>\n",
       "    </tr>\n",
       "    <tr>\n",
       "      <th>285744</th>\n",
       "      <td>228</td>\n",
       "      <td>McGinley Square</td>\n",
       "      <td>Sip Ave</td>\n",
       "      <td>Subscriber</td>\n",
       "      <td>2</td>\n",
       "      <td>24314.744</td>\n",
       "      <td>24543.641</td>\n",
       "    </tr>\n",
       "    <tr>\n",
       "      <th>455471</th>\n",
       "      <td>387</td>\n",
       "      <td>Newport Pkwy</td>\n",
       "      <td>Harborside</td>\n",
       "      <td>Subscriber</td>\n",
       "      <td>2</td>\n",
       "      <td>58258.963</td>\n",
       "      <td>58646.882</td>\n",
       "    </tr>\n",
       "  </tbody>\n",
       "</table>\n",
       "</div>"
      ],
      "text/plain": [
       "        tripduration start station name  end station name    usertype  gender  \\\n",
       "35922            224    Jersey & 6th St     Grove St PATH  Subscriber       1   \n",
       "493350           217      Grove St PATH  Marin Light Rail  Subscriber       1   \n",
       "558429           680     Riverview Park           Hilltop  Subscriber       1   \n",
       "285744           228    McGinley Square           Sip Ave  Subscriber       2   \n",
       "455471           387       Newport Pkwy        Harborside  Subscriber       2   \n",
       "\n",
       "        Start Time   End Time  \n",
       "35922    32214.436  32438.436  \n",
       "493350   73627.443  73845.094  \n",
       "558429   76253.519  76934.417  \n",
       "285744   24314.744  24543.641  \n",
       "455471   58258.963  58646.882  "
      ]
     },
     "execution_count": 5,
     "metadata": {},
     "output_type": "execute_result"
    }
   ],
   "source": [
    "print(df.shape)\n",
    "df.head()"
   ]
  },
  {
   "cell_type": "code",
   "execution_count": 6,
   "metadata": {},
   "outputs": [],
   "source": [
    "df_Customers = df[df['usertype'] == 'Customer']\n",
    "df_Subscribers = df[df['usertype'] == 'Subscriber']"
   ]
  },
  {
   "cell_type": "code",
   "execution_count": 7,
   "metadata": {},
   "outputs": [
    {
     "name": "stdout",
     "output_type": "stream",
     "text": [
      "(1747, 7)\n",
      "(21047, 7)\n"
     ]
    },
    {
     "data": {
      "text/html": [
       "<div>\n",
       "<style scoped>\n",
       "    .dataframe tbody tr th:only-of-type {\n",
       "        vertical-align: middle;\n",
       "    }\n",
       "\n",
       "    .dataframe tbody tr th {\n",
       "        vertical-align: top;\n",
       "    }\n",
       "\n",
       "    .dataframe thead th {\n",
       "        text-align: right;\n",
       "    }\n",
       "</style>\n",
       "<table border=\"1\" class=\"dataframe\">\n",
       "  <thead>\n",
       "    <tr style=\"text-align: right;\">\n",
       "      <th></th>\n",
       "      <th>tripduration</th>\n",
       "      <th>start station name</th>\n",
       "      <th>end station name</th>\n",
       "      <th>usertype</th>\n",
       "      <th>gender</th>\n",
       "      <th>Start Time</th>\n",
       "      <th>End Time</th>\n",
       "    </tr>\n",
       "  </thead>\n",
       "  <tbody>\n",
       "    <tr>\n",
       "      <th>199183</th>\n",
       "      <td>301</td>\n",
       "      <td>Grove St PATH</td>\n",
       "      <td>Marin Light Rail</td>\n",
       "      <td>Customer</td>\n",
       "      <td>2</td>\n",
       "      <td>53853.371</td>\n",
       "      <td>54154.813</td>\n",
       "    </tr>\n",
       "    <tr>\n",
       "      <th>380568</th>\n",
       "      <td>273</td>\n",
       "      <td>McGinley Square</td>\n",
       "      <td>Sip Ave</td>\n",
       "      <td>Customer</td>\n",
       "      <td>0</td>\n",
       "      <td>56315.436</td>\n",
       "      <td>56589.436</td>\n",
       "    </tr>\n",
       "    <tr>\n",
       "      <th>562728</th>\n",
       "      <td>676</td>\n",
       "      <td>Hilltop</td>\n",
       "      <td>Grand St</td>\n",
       "      <td>Customer</td>\n",
       "      <td>0</td>\n",
       "      <td>8563.948</td>\n",
       "      <td>9240.721</td>\n",
       "    </tr>\n",
       "    <tr>\n",
       "      <th>586084</th>\n",
       "      <td>1391</td>\n",
       "      <td>Liberty Light Rail</td>\n",
       "      <td>Grand St</td>\n",
       "      <td>Customer</td>\n",
       "      <td>2</td>\n",
       "      <td>47530.919</td>\n",
       "      <td>48921.950</td>\n",
       "    </tr>\n",
       "    <tr>\n",
       "      <th>538032</th>\n",
       "      <td>818</td>\n",
       "      <td>Morris Canal</td>\n",
       "      <td>JC Medical Center</td>\n",
       "      <td>Customer</td>\n",
       "      <td>2</td>\n",
       "      <td>53443.451</td>\n",
       "      <td>54261.608</td>\n",
       "    </tr>\n",
       "  </tbody>\n",
       "</table>\n",
       "</div>"
      ],
      "text/plain": [
       "        tripduration  start station name   end station name  usertype  gender  \\\n",
       "199183           301       Grove St PATH   Marin Light Rail  Customer       2   \n",
       "380568           273     McGinley Square            Sip Ave  Customer       0   \n",
       "562728           676             Hilltop           Grand St  Customer       0   \n",
       "586084          1391  Liberty Light Rail           Grand St  Customer       2   \n",
       "538032           818        Morris Canal  JC Medical Center  Customer       2   \n",
       "\n",
       "        Start Time   End Time  \n",
       "199183   53853.371  54154.813  \n",
       "380568   56315.436  56589.436  \n",
       "562728    8563.948   9240.721  \n",
       "586084   47530.919  48921.950  \n",
       "538032   53443.451  54261.608  "
      ]
     },
     "execution_count": 7,
     "metadata": {},
     "output_type": "execute_result"
    }
   ],
   "source": [
    "print(df_Customers.shape)\n",
    "print(df_Subscribers.shape)\n",
    "df_Customers.head()"
   ]
  },
  {
   "cell_type": "code",
   "execution_count": 8,
   "metadata": {},
   "outputs": [],
   "source": [
    "df_cust_sampled = df_Customers.sample(df_Customers.shape[0]//2)\n",
    "df_subs_sampled = df_Subscribers.sample(df_Customers.shape[0]//2)\n",
    "df_balanced = pd.concat([df_cust_sampled,df_subs_sampled], axis = 0)"
   ]
  },
  {
   "cell_type": "code",
   "execution_count": 9,
   "metadata": {},
   "outputs": [
    {
     "name": "stdout",
     "output_type": "stream",
     "text": [
      "(1746, 7)\n"
     ]
    },
    {
     "data": {
      "text/html": [
       "<div>\n",
       "<style scoped>\n",
       "    .dataframe tbody tr th:only-of-type {\n",
       "        vertical-align: middle;\n",
       "    }\n",
       "\n",
       "    .dataframe tbody tr th {\n",
       "        vertical-align: top;\n",
       "    }\n",
       "\n",
       "    .dataframe thead th {\n",
       "        text-align: right;\n",
       "    }\n",
       "</style>\n",
       "<table border=\"1\" class=\"dataframe\">\n",
       "  <thead>\n",
       "    <tr style=\"text-align: right;\">\n",
       "      <th></th>\n",
       "      <th>tripduration</th>\n",
       "      <th>start station name</th>\n",
       "      <th>end station name</th>\n",
       "      <th>usertype</th>\n",
       "      <th>gender</th>\n",
       "      <th>Start Time</th>\n",
       "      <th>End Time</th>\n",
       "    </tr>\n",
       "  </thead>\n",
       "  <tbody>\n",
       "    <tr>\n",
       "      <th>12024</th>\n",
       "      <td>618</td>\n",
       "      <td>Morris Canal</td>\n",
       "      <td>Jersey &amp; 3rd</td>\n",
       "      <td>Customer</td>\n",
       "      <td>2</td>\n",
       "      <td>59696.249</td>\n",
       "      <td>60314.872</td>\n",
       "    </tr>\n",
       "    <tr>\n",
       "      <th>266593</th>\n",
       "      <td>1676</td>\n",
       "      <td>Hamilton Park</td>\n",
       "      <td>Newport Pkwy</td>\n",
       "      <td>Customer</td>\n",
       "      <td>1</td>\n",
       "      <td>52031.404</td>\n",
       "      <td>53707.773</td>\n",
       "    </tr>\n",
       "    <tr>\n",
       "      <th>654465</th>\n",
       "      <td>897</td>\n",
       "      <td>Washington St</td>\n",
       "      <td>Essex Light Rail</td>\n",
       "      <td>Customer</td>\n",
       "      <td>0</td>\n",
       "      <td>2660.970</td>\n",
       "      <td>3558.133</td>\n",
       "    </tr>\n",
       "    <tr>\n",
       "      <th>34207</th>\n",
       "      <td>1358</td>\n",
       "      <td>JC Medical Center</td>\n",
       "      <td>Morris Canal</td>\n",
       "      <td>Customer</td>\n",
       "      <td>0</td>\n",
       "      <td>64691.436</td>\n",
       "      <td>66049.436</td>\n",
       "    </tr>\n",
       "    <tr>\n",
       "      <th>374124</th>\n",
       "      <td>2066</td>\n",
       "      <td>York St</td>\n",
       "      <td>Liberty Light Rail</td>\n",
       "      <td>Customer</td>\n",
       "      <td>0</td>\n",
       "      <td>57402.451</td>\n",
       "      <td>59469.440</td>\n",
       "    </tr>\n",
       "  </tbody>\n",
       "</table>\n",
       "</div>"
      ],
      "text/plain": [
       "        tripduration start station name    end station name  usertype  gender  \\\n",
       "12024            618       Morris Canal        Jersey & 3rd  Customer       2   \n",
       "266593          1676      Hamilton Park        Newport Pkwy  Customer       1   \n",
       "654465           897      Washington St    Essex Light Rail  Customer       0   \n",
       "34207           1358  JC Medical Center        Morris Canal  Customer       0   \n",
       "374124          2066            York St  Liberty Light Rail  Customer       0   \n",
       "\n",
       "        Start Time   End Time  \n",
       "12024    59696.249  60314.872  \n",
       "266593   52031.404  53707.773  \n",
       "654465    2660.970   3558.133  \n",
       "34207    64691.436  66049.436  \n",
       "374124   57402.451  59469.440  "
      ]
     },
     "execution_count": 9,
     "metadata": {},
     "output_type": "execute_result"
    }
   ],
   "source": [
    "print(df_balanced.shape)\n",
    "df_balanced.head()"
   ]
  },
  {
   "cell_type": "code",
   "execution_count": 15,
   "metadata": {},
   "outputs": [],
   "source": [
    "feature_names = ['start station name', 'end station name', 'gender',\n",
    "                 'tripduration', 'Start Time','End Time']\n",
    "\n",
    "label = 'usertype'\n",
    "user_type = df_balanced[label]"
   ]
  },
  {
   "cell_type": "code",
   "execution_count": 20,
   "metadata": {},
   "outputs": [],
   "source": [
    "df_balanced.drop(['usertype'], axis = 1, inplace = True)"
   ]
  },
  {
   "cell_type": "code",
   "execution_count": 31,
   "metadata": {},
   "outputs": [
    {
     "data": {
      "text/plain": [
       "<function __main__.<lambda>(df_balanced)>"
      ]
     },
     "execution_count": 31,
     "metadata": {},
     "output_type": "execute_result"
    }
   ],
   "source": [
    "nans = lambda df_balanced: df_balanced[df_balanced.isnull().any(axis=1)]\n",
    "nans"
   ]
  },
  {
   "cell_type": "code",
   "execution_count": 42,
   "metadata": {
    "scrolled": true
   },
   "outputs": [
    {
     "name": "stdout",
     "output_type": "stream",
     "text": [
      "(1746, 6)\n"
     ]
    },
    {
     "data": {
      "text/html": [
       "<div>\n",
       "<style scoped>\n",
       "    .dataframe tbody tr th:only-of-type {\n",
       "        vertical-align: middle;\n",
       "    }\n",
       "\n",
       "    .dataframe tbody tr th {\n",
       "        vertical-align: top;\n",
       "    }\n",
       "\n",
       "    .dataframe thead th {\n",
       "        text-align: right;\n",
       "    }\n",
       "</style>\n",
       "<table border=\"1\" class=\"dataframe\">\n",
       "  <thead>\n",
       "    <tr style=\"text-align: right;\">\n",
       "      <th></th>\n",
       "      <th>tripduration</th>\n",
       "      <th>start station name</th>\n",
       "      <th>end station name</th>\n",
       "      <th>gender</th>\n",
       "      <th>Start Time</th>\n",
       "      <th>End Time</th>\n",
       "    </tr>\n",
       "  </thead>\n",
       "  <tbody>\n",
       "    <tr>\n",
       "      <th>12024</th>\n",
       "      <td>618</td>\n",
       "      <td>Morris Canal</td>\n",
       "      <td>Jersey &amp; 3rd</td>\n",
       "      <td>2</td>\n",
       "      <td>59696.249</td>\n",
       "      <td>60314.872</td>\n",
       "    </tr>\n",
       "    <tr>\n",
       "      <th>266593</th>\n",
       "      <td>1676</td>\n",
       "      <td>Hamilton Park</td>\n",
       "      <td>Newport Pkwy</td>\n",
       "      <td>1</td>\n",
       "      <td>52031.404</td>\n",
       "      <td>53707.773</td>\n",
       "    </tr>\n",
       "    <tr>\n",
       "      <th>654465</th>\n",
       "      <td>897</td>\n",
       "      <td>Washington St</td>\n",
       "      <td>Essex Light Rail</td>\n",
       "      <td>0</td>\n",
       "      <td>2660.970</td>\n",
       "      <td>3558.133</td>\n",
       "    </tr>\n",
       "    <tr>\n",
       "      <th>34207</th>\n",
       "      <td>1358</td>\n",
       "      <td>JC Medical Center</td>\n",
       "      <td>Morris Canal</td>\n",
       "      <td>0</td>\n",
       "      <td>64691.436</td>\n",
       "      <td>66049.436</td>\n",
       "    </tr>\n",
       "    <tr>\n",
       "      <th>374124</th>\n",
       "      <td>2066</td>\n",
       "      <td>York St</td>\n",
       "      <td>Liberty Light Rail</td>\n",
       "      <td>0</td>\n",
       "      <td>57402.451</td>\n",
       "      <td>59469.440</td>\n",
       "    </tr>\n",
       "  </tbody>\n",
       "</table>\n",
       "</div>"
      ],
      "text/plain": [
       "        tripduration start station name    end station name  gender  \\\n",
       "12024            618       Morris Canal        Jersey & 3rd       2   \n",
       "266593          1676      Hamilton Park        Newport Pkwy       1   \n",
       "654465           897      Washington St    Essex Light Rail       0   \n",
       "34207           1358  JC Medical Center        Morris Canal       0   \n",
       "374124          2066            York St  Liberty Light Rail       0   \n",
       "\n",
       "        Start Time   End Time  \n",
       "12024    59696.249  60314.872  \n",
       "266593   52031.404  53707.773  \n",
       "654465    2660.970   3558.133  \n",
       "34207    64691.436  66049.436  \n",
       "374124   57402.451  59469.440  "
      ]
     },
     "execution_count": 42,
     "metadata": {},
     "output_type": "execute_result"
    }
   ],
   "source": [
    "print(df_balanced.shape)\n",
    "df_balanced.head()"
   ]
  },
  {
   "cell_type": "code",
   "execution_count": 33,
   "metadata": {},
   "outputs": [
    {
     "data": {
      "text/plain": [
       "12024     Customer\n",
       "266593    Customer\n",
       "654465    Customer\n",
       "34207     Customer\n",
       "374124    Customer\n",
       "Name: usertype, dtype: object"
      ]
     },
     "execution_count": 33,
     "metadata": {},
     "output_type": "execute_result"
    }
   ],
   "source": [
    "user_type.head()"
   ]
  },
  {
   "cell_type": "code",
   "execution_count": 34,
   "metadata": {},
   "outputs": [
    {
     "data": {
      "text/plain": [
       "Customer      0.5\n",
       "Subscriber    0.5\n",
       "Name: usertype, dtype: float64"
      ]
     },
     "execution_count": 34,
     "metadata": {},
     "output_type": "execute_result"
    }
   ],
   "source": [
    "balance = user_type.value_counts(normalize = True)\n",
    "balance"
   ]
  },
  {
   "cell_type": "code",
   "execution_count": 35,
   "metadata": {},
   "outputs": [
    {
     "name": "stdout",
     "output_type": "stream",
     "text": [
      "balance of the data / baseline accuracy =  0.5\n"
     ]
    }
   ],
   "source": [
    "base = balance[0]\n",
    "print(\"balance of the data / baseline accuracy = \",base)\n"
   ]
  },
  {
   "cell_type": "code",
   "execution_count": 36,
   "metadata": {},
   "outputs": [],
   "source": [
    "from sklearn.model_selection import GridSearchCV\n",
    "from sklearn.pipeline import make_pipeline\n",
    "from sklearn.metrics import make_scorer\n",
    "from sklearn.model_selection import train_test_split\n",
    "from sklearn.model_selection import KFold\n",
    "from sklearn.preprocessing import StandardScaler\n",
    "from sklearn.linear_model import Ridge\n",
    "from sklearn.metrics import mean_squared_error\n",
    "import matplotlib.pyplot as plt\n",
    "import matplotlib\n",
    "import statistics\n",
    "from sklearn.preprocessing import OneHotEncoder\n",
    "from sklearn.preprocessing import OrdinalEncoder\n",
    "from sklearn.preprocessing import StandardScaler\n",
    "from sklearn.preprocessing import LabelEncoder\n",
    "from sklearn.feature_selection import SelectKBest\n",
    "from sklearn.feature_selection import f_classif, mutual_info_classif\n",
    "from sklearn.compose import ColumnTransformer\n",
    "import matplotlib\n",
    "from matplotlib import pylab as plt\n",
    "from sklearn.pipeline import Pipeline\n",
    "from sklearn.svm import SVC\n",
    "from sklearn.metrics import accuracy_score\n",
    "from sklearn.model_selection import StratifiedKFold\n",
    "from sklearn.pipeline import make_pipeline\n",
    "from sklearn.linear_model import LogisticRegression\n",
    "import warnings\n",
    "warnings.filterwarnings(\"ignore\")"
   ]
  },
  {
   "cell_type": "code",
   "execution_count": 43,
   "metadata": {},
   "outputs": [],
   "source": [
    "def ML_pipeline_kfold_GridSearchCV_log(X,y,random_state,n_folds):\n",
    "    # create a test set\n",
    "    X_other, X_test, y_other, y_test = train_test_split(X, y, test_size=0.2, random_state = random_state,stratify=y)\n",
    "    # splitter for _other\n",
    "    kf = StratifiedKFold(n_splits=n_folds,shuffle=True,random_state=random_state)\n",
    "    # create the pipeline: preprocessor + supervised ML method\n",
    "    \n",
    "    feature_names = ['start station name', 'end station name', 'gender',\n",
    "                     'tripduration', 'Start Time','End Time']\n",
    "\n",
    "    cat_ftrs = ['start station name', 'end station name', 'gender']\n",
    "    num_ftrs = ['tripduration', 'Start Time','End Time']\n",
    "    \n",
    "    cat_ftrs_i = [df_balanced.columns.get_loc(x) for x in cat_ftrs]\n",
    "    num_ftrs_i = [df_balanced.columns.get_loc(x) for x in num_ftrs]\n",
    "    categorical_transformer = Pipeline(steps=[('onehot', OneHotEncoder(sparse=False, handle_unknown = 'ignore'))])\n",
    "    numeric_transformer = Pipeline(steps=[('scaler', StandardScaler())])\n",
    "\n",
    "\n",
    "    # collect the transformers\n",
    "    preprocessor = ColumnTransformer(\n",
    "        transformers=[\n",
    "            ('num', numeric_transformer, num_ftrs_i),\n",
    "            ('cat', categorical_transformer, cat_ftrs_i)]) \n",
    "\n",
    "    pipe = make_pipeline(preprocessor, LogisticRegression(penalty='l1', solver='saga',\n",
    "                                                          max_iter=10000, multi_class = 'auto', random_state = 22))\n",
    "    #pipe = make_pipeline(preprocess, LogisticRegression(penalty='l1', solver='saga', max_iter=10000))\n",
    "    \n",
    "    # the parameter(s) we want to tune\n",
    "    param_grid = {'logisticregression__C': [0.1, 1.0, 10, 100]}\n",
    "    # prepare gridsearch\n",
    "    grid = GridSearchCV(pipe, param_grid=param_grid,scoring = make_scorer(accuracy_score),\n",
    "                            cv=kf, return_train_score = True,iid=True)\n",
    "    # do kfold CV on _other\n",
    "    print(\"running\")\n",
    "    grid.fit(X_other, y_other)\n",
    "    return grid, grid.score(X_test, y_test)\n",
    "\n",
    "\n"
   ]
  },
  {
   "cell_type": "code",
   "execution_count": 44,
   "metadata": {},
   "outputs": [],
   "source": [
    "X = df_balanced.loc[:,df_balanced.columns != label].values\n",
    "y = user_type.values"
   ]
  },
  {
   "cell_type": "code",
   "execution_count": 46,
   "metadata": {},
   "outputs": [
    {
     "name": "stdout",
     "output_type": "stream",
     "text": [
      "running\n",
      "{'logisticregression__C': 1.0}\n",
      "best CV score: 0.8259312320916905\n",
      "test score: 0.84\n",
      "running\n",
      "{'logisticregression__C': 1.0}\n",
      "best CV score: 0.8467048710601719\n",
      "test score: 0.78\n",
      "running\n",
      "{'logisticregression__C': 1.0}\n",
      "best CV score: 0.8316618911174785\n",
      "test score: 0.84\n",
      "running\n",
      "{'logisticregression__C': 1.0}\n",
      "best CV score: 0.8373925501432665\n",
      "test score: 0.8314285714285714\n",
      "running\n",
      "{'logisticregression__C': 1.0}\n",
      "best CV score: 0.829512893982808\n",
      "test score: 0.8485714285714285\n",
      "running\n",
      "{'logisticregression__C': 1.0}\n",
      "best CV score: 0.8359598853868195\n",
      "test score: 0.8342857142857143\n",
      "running\n",
      "{'logisticregression__C': 1.0}\n",
      "best CV score: 0.8237822349570201\n",
      "test score: 0.86\n",
      "running\n",
      "{'logisticregression__C': 1.0}\n",
      "best CV score: 0.839541547277937\n",
      "test score: 0.8342857142857143\n",
      "running\n",
      "{'logisticregression__C': 1.0}\n",
      "best CV score: 0.836676217765043\n",
      "test score: 0.84\n",
      "running\n",
      "{'logisticregression__C': 1.0}\n",
      "best CV score: 0.8287965616045845\n",
      "test score: 0.8457142857142858\n",
      "test accuracy: 0.84 +/- 0.02\n"
     ]
    }
   ],
   "source": [
    "test_scores = []\n",
    "\n",
    "for i in range(10):\n",
    "    grid, test_score = ML_pipeline_kfold_GridSearchCV_log(X,y.ravel(),i*22, 5)\n",
    "    print(grid.best_params_)\n",
    "    print('best CV score:',grid.best_score_)\n",
    "    print('test score:',test_score)\n",
    "    test_scores.append(test_score)\n",
    "    \n",
    "print('test accuracy:',np.around(np.mean(test_scores),2),'+/-',np.around(np.std(test_scores),2))\n",
    "\n",
    "mean_LR_a = np.mean(test_scores)\n",
    "mean_LR_sd = np.std(test_scores)"
   ]
  },
  {
   "cell_type": "code",
   "execution_count": 47,
   "metadata": {},
   "outputs": [
    {
     "name": "stdout",
     "output_type": "stream",
     "text": [
      "test accuracy: 0.8354285714285714\n",
      "sd:  0.020089595235710783\n"
     ]
    }
   ],
   "source": [
    "print(\"test accuracy:\",mean_LR_a)\n",
    "print(\"sd: \",mean_LR_sd)"
   ]
  },
  {
   "cell_type": "code",
   "execution_count": 56,
   "metadata": {},
   "outputs": [
    {
     "name": "stdout",
     "output_type": "stream",
     "text": [
      "LR_score = 16.696631639064666\n"
     ]
    }
   ],
   "source": [
    "LR_score = (mean_LR_a - base)/mean_LR_sd\n",
    "\n",
    "print(\"LR_score =\",LR_score)"
   ]
  },
  {
   "cell_type": "markdown",
   "metadata": {},
   "source": [
    "* **RF**"
   ]
  },
  {
   "cell_type": "code",
   "execution_count": 49,
   "metadata": {},
   "outputs": [],
   "source": [
    "from sklearn.ensemble import RandomForestClassifier"
   ]
  },
  {
   "cell_type": "code",
   "execution_count": 51,
   "metadata": {},
   "outputs": [],
   "source": [
    "def ML_pipeline_kfold_GridSearchCV_RF(X,y,random_state,n_folds):\n",
    "    # create a test set\n",
    "    X_other, X_test, y_other, y_test = train_test_split(X, y, test_size=0.2, random_state = random_state,stratify=y)\n",
    "    # splitter for _other\n",
    "    kf = StratifiedKFold(n_splits=n_folds,shuffle=True,random_state=random_state)\n",
    "    # create the pipeline: preprocessor + supervised ML method\n",
    "    \n",
    "    feature_names = ['start station name', 'end station name', 'gender',\n",
    "                     'tripduration', 'Start Time','End Time']\n",
    "\n",
    "    cat_ftrs = ['start station name', 'end station name', 'gender']\n",
    "    num_ftrs = ['tripduration', 'Start Time','End Time']\n",
    "    \n",
    "    cat_ftrs_i = [df_balanced.columns.get_loc(x) for x in cat_ftrs]\n",
    "    num_ftrs_i = [df_balanced.columns.get_loc(x) for x in num_ftrs]\n",
    "\n",
    "    categorical_transformer = Pipeline(steps=[('onehot', OneHotEncoder(sparse=False, handle_unknown = 'ignore'))])\n",
    "    numeric_transformer = Pipeline(steps=[('scaler', StandardScaler())])\n",
    "\n",
    "\n",
    "    # collect the transformers\n",
    "    preprocessor = ColumnTransformer(\n",
    "        transformers=[\n",
    "            ('num', numeric_transformer, num_ftrs_i),\n",
    "            ('cat', categorical_transformer, cat_ftrs_i)]) \n",
    "\n",
    "    pipe = make_pipeline(preprocessor, RandomForestClassifier(random_state = 22))\n",
    "    #pipe = make_pipeline(preprocess, LogisticRegression(penalty='l1', solver='saga', max_iter=10000))\n",
    "    \n",
    "    # the parameter(s) we want to tune\n",
    "    param_grid = {'randomforestclassifier__min_samples_split': range(2,25,5),\n",
    "                  'randomforestclassifier__max_depth': range(1,30,5)}\n",
    "    # prepare gridsearch\n",
    "    grid = GridSearchCV(pipe, param_grid=param_grid,scoring = make_scorer(accuracy_score),\n",
    "                            cv=kf, return_train_score = True,iid=True)\n",
    "    # do kfold CV on _other\n",
    "    print(\"running\")\n",
    "    grid.fit(X_other, y_other)\n",
    "    return grid, grid.score(X_test, y_test)\n"
   ]
  },
  {
   "cell_type": "code",
   "execution_count": 52,
   "metadata": {},
   "outputs": [
    {
     "name": "stdout",
     "output_type": "stream",
     "text": [
      "running\n",
      "{'randomforestclassifier__max_depth': 16, 'randomforestclassifier__min_samples_split': 17}\n",
      "best CV score: 0.8409742120343839\n",
      "test score: 0.8571428571428571\n",
      "running\n",
      "{'randomforestclassifier__max_depth': 21, 'randomforestclassifier__min_samples_split': 22}\n",
      "best CV score: 0.8524355300859598\n",
      "test score: 0.7885714285714286\n",
      "running\n",
      "{'randomforestclassifier__max_depth': 16, 'randomforestclassifier__min_samples_split': 22}\n",
      "best CV score: 0.8416905444126075\n",
      "test score: 0.8314285714285714\n",
      "running\n",
      "{'randomforestclassifier__max_depth': 16, 'randomforestclassifier__min_samples_split': 7}\n",
      "best CV score: 0.8438395415472779\n",
      "test score: 0.82\n",
      "running\n",
      "{'randomforestclassifier__max_depth': 26, 'randomforestclassifier__min_samples_split': 7}\n",
      "best CV score: 0.8402578796561605\n",
      "test score: 0.8285714285714286\n",
      "running\n",
      "{'randomforestclassifier__max_depth': 21, 'randomforestclassifier__min_samples_split': 12}\n",
      "best CV score: 0.839541547277937\n",
      "test score: 0.8371428571428572\n",
      "running\n",
      "{'randomforestclassifier__max_depth': 11, 'randomforestclassifier__min_samples_split': 17}\n",
      "best CV score: 0.836676217765043\n",
      "test score: 0.8285714285714286\n",
      "running\n",
      "{'randomforestclassifier__max_depth': 26, 'randomforestclassifier__min_samples_split': 12}\n",
      "best CV score: 0.8474212034383954\n",
      "test score: 0.8314285714285714\n",
      "running\n",
      "{'randomforestclassifier__max_depth': 11, 'randomforestclassifier__min_samples_split': 12}\n",
      "best CV score: 0.8402578796561605\n",
      "test score: 0.8428571428571429\n",
      "running\n",
      "{'randomforestclassifier__max_depth': 21, 'randomforestclassifier__min_samples_split': 22}\n",
      "best CV score: 0.8467048710601719\n",
      "test score: 0.8514285714285714\n",
      "test accuracy: 0.83 +/- 0.02\n"
     ]
    }
   ],
   "source": [
    "test_scores = []\n",
    "\n",
    "for i in range(10):\n",
    "    grid, test_score = ML_pipeline_kfold_GridSearchCV_RF(X,y.ravel(),i*22, 5)\n",
    "    print(grid.best_params_)\n",
    "    print('best CV score:',grid.best_score_)\n",
    "    print('test score:',test_score)\n",
    "    test_scores.append(test_score)\n",
    "    \n",
    "print('test accuracy:',np.around(np.mean(test_scores),2),'+/-',np.around(np.std(test_scores),2))\n",
    "\n",
    "mean_RF_a = np.mean(test_scores)\n",
    "mean_RF_sd = np.std(test_scores)\n",
    "\n"
   ]
  },
  {
   "cell_type": "code",
   "execution_count": 53,
   "metadata": {},
   "outputs": [
    {
     "name": "stdout",
     "output_type": "stream",
     "text": [
      "test accuracy: 0.8317142857142856\n",
      "sd:  0.017909067364816927\n"
     ]
    }
   ],
   "source": [
    "print(\"test accuracy:\",mean_RF_a)\n",
    "print(\"sd: \",mean_RF_sd)"
   ]
  },
  {
   "cell_type": "code",
   "execution_count": 55,
   "metadata": {},
   "outputs": [
    {
     "name": "stdout",
     "output_type": "stream",
     "text": [
      "RF_score = 18.52214182665656\n"
     ]
    }
   ],
   "source": [
    "RF_score = (mean_RF_a - base)/mean_RF_sd\n",
    "\n",
    "print(\"RF_score =\",RF_score)"
   ]
  },
  {
   "cell_type": "markdown",
   "metadata": {},
   "source": [
    "* **SVM**"
   ]
  },
  {
   "cell_type": "code",
   "execution_count": 57,
   "metadata": {},
   "outputs": [],
   "source": [
    "from sklearn.svm import SVC"
   ]
  },
  {
   "cell_type": "code",
   "execution_count": 58,
   "metadata": {},
   "outputs": [],
   "source": [
    "def ML_pipeline_kfold_GridSearchCV_SVC(X,y,random_state,n_folds):\n",
    "    # create a test set\n",
    "    X_other, X_test, y_other, y_test = train_test_split(X, y, test_size=0.2, random_state = random_state,stratify=y)\n",
    "    # splitter for _other\n",
    "    kf = StratifiedKFold(n_splits=n_folds,shuffle=True,random_state=random_state)\n",
    "    # create the pipeline: preprocessor + supervised ML method\n",
    "    \n",
    "    feature_names = ['start station name', 'end station name', 'gender',\n",
    "                     'tripduration', 'Start Time','End Time']\n",
    "\n",
    "    cat_ftrs = ['start station name', 'end station name', 'gender']\n",
    "    num_ftrs = ['tripduration', 'Start Time','End Time']\n",
    "    \n",
    "    cat_ftrs_i = [df_balanced.columns.get_loc(x) for x in cat_ftrs]\n",
    "    num_ftrs_i = [df_balanced.columns.get_loc(x) for x in num_ftrs]\n",
    "\n",
    "    categorical_transformer = Pipeline(steps=[('onehot', OneHotEncoder(sparse=False, handle_unknown = 'ignore'))])\n",
    "    numeric_transformer = Pipeline(steps=[('scaler', StandardScaler())])\n",
    "\n",
    "\n",
    "    # collect the transformers\n",
    "    preprocessor = ColumnTransformer(\n",
    "        transformers=[\n",
    "            ('num', numeric_transformer, num_ftrs_i),\n",
    "            ('cat', categorical_transformer, cat_ftrs_i)]) \n",
    "\n",
    "    pipe = make_pipeline(preprocessor, SVC(random_state = 22))\n",
    "    #pipe = make_pipeline(preprocess, LogisticRegression(penalty='l1', solver='saga', max_iter=10000))\n",
    "    \n",
    "    # the parameter(s) we want to tune\n",
    "    param_grid = {'svc__C': np.logspace(-3,4,num=8),'svc__gamma': np.logspace(-3,4,num=8)}\n",
    "    # prepare gridsearch\n",
    "    grid = GridSearchCV(pipe, param_grid=param_grid,scoring = make_scorer(accuracy_score),\n",
    "                            cv=kf, return_train_score = True,iid=True)\n",
    "    # do kfold CV on _other\n",
    "    print(\"running\")\n",
    "    grid.fit(X_other, y_other)\n",
    "    return grid, grid.score(X_test, y_test)"
   ]
  },
  {
   "cell_type": "code",
   "execution_count": 59,
   "metadata": {},
   "outputs": [
    {
     "name": "stdout",
     "output_type": "stream",
     "text": [
      "running\n",
      "{'svc__C': 1000.0, 'svc__gamma': 0.001}\n",
      "best CV score: 0.8194842406876791\n",
      "test score: 0.8457142857142858\n",
      "running\n",
      "{'svc__C': 10000.0, 'svc__gamma': 0.001}\n",
      "best CV score: 0.8373925501432665\n",
      "test score: 0.78\n",
      "running\n",
      "{'svc__C': 10000.0, 'svc__gamma': 0.001}\n",
      "best CV score: 0.832378223495702\n",
      "test score: 0.8342857142857143\n",
      "running\n",
      "{'svc__C': 100.0, 'svc__gamma': 0.01}\n",
      "best CV score: 0.829512893982808\n",
      "test score: 0.8171428571428572\n",
      "running\n",
      "{'svc__C': 10000.0, 'svc__gamma': 0.001}\n",
      "best CV score: 0.828080229226361\n",
      "test score: 0.8314285714285714\n",
      "running\n",
      "{'svc__C': 10000.0, 'svc__gamma': 0.001}\n",
      "best CV score: 0.8237822349570201\n",
      "test score: 0.8485714285714285\n",
      "running\n",
      "{'svc__C': 100.0, 'svc__gamma': 0.01}\n",
      "best CV score: 0.8187679083094556\n",
      "test score: 0.8542857142857143\n",
      "running\n",
      "{'svc__C': 10000.0, 'svc__gamma': 0.001}\n",
      "best CV score: 0.8316618911174785\n",
      "test score: 0.8142857142857143\n",
      "running\n",
      "{'svc__C': 1000.0, 'svc__gamma': 0.001}\n",
      "best CV score: 0.832378223495702\n",
      "test score: 0.8228571428571428\n",
      "running\n",
      "{'svc__C': 100.0, 'svc__gamma': 0.01}\n",
      "best CV score: 0.830945558739255\n",
      "test score: 0.84\n",
      "test accuracy: 0.83 +/- 0.02\n"
     ]
    }
   ],
   "source": [
    "test_scores = []\n",
    "\n",
    "for i in range(10):\n",
    "    grid, test_score = ML_pipeline_kfold_GridSearchCV_SVC(X,y.ravel(),i*22, 5)\n",
    "    print(grid.best_params_)\n",
    "    print('best CV score:',grid.best_score_)\n",
    "    print('test score:',test_score)\n",
    "    test_scores.append(test_score)\n",
    "    \n",
    "print('test accuracy:',np.around(np.mean(test_scores),2),'+/-',np.around(np.std(test_scores),2))\n",
    "\n",
    "mean_SVC_a = np.around(np.mean(test_scores),2)\n",
    "mean_SVC_sd = np.around(np.std(test_scores),2)\n"
   ]
  },
  {
   "cell_type": "code",
   "execution_count": 70,
   "metadata": {},
   "outputs": [
    {
     "name": "stdout",
     "output_type": "stream",
     "text": [
      "[1.e-03 1.e-02 1.e-01 1.e+00 1.e+01 1.e+02 1.e+03 1.e+04]\n"
     ]
    }
   ],
   "source": [
    "print(np.logspace(-3,4,num=8))"
   ]
  },
  {
   "cell_type": "code",
   "execution_count": 64,
   "metadata": {},
   "outputs": [
    {
     "name": "stdout",
     "output_type": "stream",
     "text": [
      "test accuracy: 0.83\n",
      "sd:  0.02\n"
     ]
    }
   ],
   "source": [
    "print(\"test accuracy:\",mean_SVC_a)\n",
    "print(\"sd: \",mean_SVC_sd)"
   ]
  },
  {
   "cell_type": "code",
   "execution_count": 65,
   "metadata": {},
   "outputs": [
    {
     "name": "stdout",
     "output_type": "stream",
     "text": [
      "SVC_score = 16.499999999999996\n"
     ]
    }
   ],
   "source": [
    "SVC_score = (mean_SVC_a - base)/mean_SVC_sd\n",
    "\n",
    "print(\"SVC_score =\",SVC_score)"
   ]
  },
  {
   "cell_type": "code",
   "execution_count": null,
   "metadata": {},
   "outputs": [],
   "source": []
  }
 ],
 "metadata": {
  "kernelspec": {
   "display_name": "Python 3",
   "language": "python",
   "name": "python3"
  },
  "language_info": {
   "codemirror_mode": {
    "name": "ipython",
    "version": 3
   },
   "file_extension": ".py",
   "mimetype": "text/x-python",
   "name": "python",
   "nbconvert_exporter": "python",
   "pygments_lexer": "ipython3",
   "version": "3.7.3"
  }
 },
 "nbformat": 4,
 "nbformat_minor": 2
}
