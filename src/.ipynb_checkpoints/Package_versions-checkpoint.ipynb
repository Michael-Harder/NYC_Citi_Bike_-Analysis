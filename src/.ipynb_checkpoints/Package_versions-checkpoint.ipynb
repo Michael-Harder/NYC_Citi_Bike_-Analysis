{
 "cells": [
  {
   "cell_type": "code",
   "execution_count": 27,
   "metadata": {},
   "outputs": [],
   "source": [
    "import pandas\n",
    "import numpy\n",
    "import sklearn\n",
    "import matplotlib\n"
   ]
  },
  {
   "cell_type": "code",
   "execution_count": 28,
   "metadata": {},
   "outputs": [
    {
     "data": {
      "text/plain": [
       "'3.1.0'"
      ]
     },
     "execution_count": 28,
     "metadata": {},
     "output_type": "execute_result"
    }
   ],
   "source": [
    "matplotlib.__version__"
   ]
  },
  {
   "cell_type": "code",
   "execution_count": 29,
   "metadata": {},
   "outputs": [
    {
     "name": "stdout",
     "output_type": "stream",
     "text": [
      "<module 'pandas' from '/Applications/anaconda3/lib/python3.7/site-packages/pandas/__init__.py'> 0.24.2\n",
      "<module 'numpy' from '/Applications/anaconda3/lib/python3.7/site-packages/numpy/__init__.py'> 1.16.4\n",
      "<module 'sklearn' from '/Applications/anaconda3/lib/python3.7/site-packages/sklearn/__init__.py'> 0.21.2\n",
      "<module 'matplotlib' from '/Applications/anaconda3/lib/python3.7/site-packages/matplotlib/__init__.py'> 3.1.0\n"
     ]
    }
   ],
   "source": [
    "packages = [pandas, numpy, sklearn, matplotlib]\n",
    "\n",
    "for package in packages:\n",
    "    print(package, package.__version__)"
   ]
  },
  {
   "cell_type": "code",
   "execution_count": null,
   "metadata": {},
   "outputs": [],
   "source": []
  }
 ],
 "metadata": {
  "kernelspec": {
   "display_name": "Python 3",
   "language": "python",
   "name": "python3"
  },
  "language_info": {
   "codemirror_mode": {
    "name": "ipython",
    "version": 3
   },
   "file_extension": ".py",
   "mimetype": "text/x-python",
   "name": "python",
   "nbconvert_exporter": "python",
   "pygments_lexer": "ipython3",
   "version": "3.7.3"
  }
 },
 "nbformat": 4,
 "nbformat_minor": 2
}
