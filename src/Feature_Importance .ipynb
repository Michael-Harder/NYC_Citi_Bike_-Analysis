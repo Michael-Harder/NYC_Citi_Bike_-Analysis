{
 "cells": [
  {
   "cell_type": "markdown",
   "metadata": {},
   "source": [
    "* after this pick a model and run an ROC and confusion matrix on it and interpret it\n",
    "* feature importnace, lecture 23"
   ]
  },
  {
   "cell_type": "code",
   "execution_count": 34,
   "metadata": {},
   "outputs": [],
   "source": [
    "import pandas as pd\n",
    "import numpy as np\n",
    "from os.path import dirname, abspath\n",
    "from sklearn.model_selection import GridSearchCV\n",
    "from sklearn.pipeline import make_pipeline\n",
    "from sklearn.metrics import make_scorer\n",
    "from sklearn.model_selection import train_test_split\n",
    "from sklearn.model_selection import KFold\n",
    "from sklearn.preprocessing import StandardScaler\n",
    "from sklearn.linear_model import Ridge\n",
    "from sklearn.metrics import mean_squared_error\n",
    "import matplotlib.pyplot as plt\n",
    "import matplotlib\n",
    "import statistics\n",
    "from sklearn.preprocessing import OneHotEncoder\n",
    "from sklearn.preprocessing import OrdinalEncoder\n",
    "from sklearn.preprocessing import StandardScaler\n",
    "from sklearn.preprocessing import LabelEncoder\n",
    "from sklearn.feature_selection import SelectKBest\n",
    "from sklearn.feature_selection import f_classif, mutual_info_classif\n",
    "from sklearn.compose import ColumnTransformer\n",
    "import matplotlib\n",
    "from matplotlib import pylab as plt\n",
    "from sklearn.pipeline import Pipeline\n",
    "from sklearn.svm import SVC\n",
    "from sklearn.metrics import accuracy_score\n",
    "from sklearn.model_selection import StratifiedKFold\n",
    "from sklearn.pipeline import make_pipeline\n",
    "from sklearn.linear_model import LogisticRegression\n",
    "import warnings\n",
    "warnings.filterwarnings(\"ignore\")"
   ]
  },
  {
   "cell_type": "code",
   "execution_count": 35,
   "metadata": {},
   "outputs": [
    {
     "data": {
      "text/plain": [
       "(22794, 12)"
      ]
     },
     "execution_count": 35,
     "metadata": {},
     "output_type": "execute_result"
    }
   ],
   "source": [
    "d = dirname(dirname(abspath(\"preprocessing.ipynb\")))\n",
    "df_wokring = pd.read_csv(d + '/data/Semi_processed_data.csv') #nrows = 1000)\n",
    "\n",
    "df = df_wokring.sample(frac=0.03, replace=False, random_state=22) #3% smaple from df for 22794 observations\n",
    "\n",
    "feature_names = ['start station name', 'end station name', 'gender',\n",
    "                 'tripduration', 'Start Time','End Time']\n",
    "\n",
    "label = 'usertype'\n",
    "user_type = df['usertype']\n",
    "df.head()\n",
    "df.shape"
   ]
  },
  {
   "cell_type": "code",
   "execution_count": 36,
   "metadata": {},
   "outputs": [],
   "source": [
    "nans = lambda df: df[df.isnull().any(axis=1)]\n"
   ]
  },
  {
   "cell_type": "code",
   "execution_count": 37,
   "metadata": {},
   "outputs": [],
   "source": [
    "df.drop([label, 'birth year','start station latitude','end station latitude',\n",
    "        'start station longitude', 'end station longitude'], axis = 1, inplace = True)\n"
   ]
  },
  {
   "cell_type": "code",
   "execution_count": 38,
   "metadata": {},
   "outputs": [
    {
     "data": {
      "text/html": [
       "<div>\n",
       "<style scoped>\n",
       "    .dataframe tbody tr th:only-of-type {\n",
       "        vertical-align: middle;\n",
       "    }\n",
       "\n",
       "    .dataframe tbody tr th {\n",
       "        vertical-align: top;\n",
       "    }\n",
       "\n",
       "    .dataframe thead th {\n",
       "        text-align: right;\n",
       "    }\n",
       "</style>\n",
       "<table border=\"1\" class=\"dataframe\">\n",
       "  <thead>\n",
       "    <tr style=\"text-align: right;\">\n",
       "      <th></th>\n",
       "      <th>tripduration</th>\n",
       "      <th>start station name</th>\n",
       "      <th>end station name</th>\n",
       "      <th>gender</th>\n",
       "      <th>Start Time</th>\n",
       "      <th>End Time</th>\n",
       "    </tr>\n",
       "  </thead>\n",
       "  <tbody>\n",
       "    <tr>\n",
       "      <th>35922</th>\n",
       "      <td>224</td>\n",
       "      <td>Jersey &amp; 6th St</td>\n",
       "      <td>Grove St PATH</td>\n",
       "      <td>1</td>\n",
       "      <td>32214.436</td>\n",
       "      <td>32438.436</td>\n",
       "    </tr>\n",
       "    <tr>\n",
       "      <th>493350</th>\n",
       "      <td>217</td>\n",
       "      <td>Grove St PATH</td>\n",
       "      <td>Marin Light Rail</td>\n",
       "      <td>1</td>\n",
       "      <td>73627.443</td>\n",
       "      <td>73845.094</td>\n",
       "    </tr>\n",
       "    <tr>\n",
       "      <th>558429</th>\n",
       "      <td>680</td>\n",
       "      <td>Riverview Park</td>\n",
       "      <td>Hilltop</td>\n",
       "      <td>1</td>\n",
       "      <td>76253.519</td>\n",
       "      <td>76934.417</td>\n",
       "    </tr>\n",
       "    <tr>\n",
       "      <th>285744</th>\n",
       "      <td>228</td>\n",
       "      <td>McGinley Square</td>\n",
       "      <td>Sip Ave</td>\n",
       "      <td>2</td>\n",
       "      <td>24314.744</td>\n",
       "      <td>24543.641</td>\n",
       "    </tr>\n",
       "    <tr>\n",
       "      <th>455471</th>\n",
       "      <td>387</td>\n",
       "      <td>Newport Pkwy</td>\n",
       "      <td>Harborside</td>\n",
       "      <td>2</td>\n",
       "      <td>58258.963</td>\n",
       "      <td>58646.882</td>\n",
       "    </tr>\n",
       "  </tbody>\n",
       "</table>\n",
       "</div>"
      ],
      "text/plain": [
       "        tripduration start station name  end station name  gender  Start Time  \\\n",
       "35922            224    Jersey & 6th St     Grove St PATH       1   32214.436   \n",
       "493350           217      Grove St PATH  Marin Light Rail       1   73627.443   \n",
       "558429           680     Riverview Park           Hilltop       1   76253.519   \n",
       "285744           228    McGinley Square           Sip Ave       2   24314.744   \n",
       "455471           387       Newport Pkwy        Harborside       2   58258.963   \n",
       "\n",
       "         End Time  \n",
       "35922   32438.436  \n",
       "493350  73845.094  \n",
       "558429  76934.417  \n",
       "285744  24543.641  \n",
       "455471  58646.882  "
      ]
     },
     "execution_count": 38,
     "metadata": {},
     "output_type": "execute_result"
    }
   ],
   "source": [
    "df.head()"
   ]
  },
  {
   "cell_type": "code",
   "execution_count": 39,
   "metadata": {},
   "outputs": [],
   "source": [
    "X = df.loc[:,df.columns != label].values\n",
    "y = user_type.values"
   ]
  },
  {
   "cell_type": "code",
   "execution_count": 40,
   "metadata": {},
   "outputs": [],
   "source": [
    "df_y = user_type"
   ]
  },
  {
   "cell_type": "code",
   "execution_count": 41,
   "metadata": {},
   "outputs": [
    {
     "data": {
      "text/plain": [
       "Subscriber    0.923357\n",
       "Customer      0.076643\n",
       "Name: usertype, dtype: float64"
      ]
     },
     "execution_count": 41,
     "metadata": {},
     "output_type": "execute_result"
    }
   ],
   "source": [
    "#Balance\n",
    "balance = user_type.value_counts(normalize = True)\n",
    "balance"
   ]
  },
  {
   "cell_type": "code",
   "execution_count": 42,
   "metadata": {},
   "outputs": [
    {
     "name": "stdout",
     "output_type": "stream",
     "text": [
      "balance of the data / baseline accuracy =  0.9233570237781873\n"
     ]
    }
   ],
   "source": [
    "base = balance[0]\n",
    "print(\"balance of the data / baseline accuracy = \",base)\n"
   ]
  },
  {
   "cell_type": "code",
   "execution_count": 43,
   "metadata": {},
   "outputs": [],
   "source": [
    "from sklearn.ensemble import RandomForestClassifier"
   ]
  },
  {
   "cell_type": "code",
   "execution_count": 48,
   "metadata": {},
   "outputs": [],
   "source": [
    "def ML_pipeline_kfold_GridSearchCV_RF(X,y,random_state,n_folds):\n",
    "    # create a test set\n",
    "    X_other, X_test, y_other, y_test = train_test_split(X, y, test_size=0.2, random_state = random_state,stratify=y)\n",
    "    # splitter for _other\n",
    "    kf = StratifiedKFold(n_splits=n_folds,shuffle=True,random_state=random_state)\n",
    "    # create the pipeline: preprocessor + supervised ML method\n",
    "    \n",
    "    feature_names = ['start station name', 'end station name', 'gender',\n",
    "                     'tripduration', 'Start Time','End Time']\n",
    "\n",
    "    cat_ftrs = ['start station name', 'end station name', 'gender']\n",
    "    num_ftrs = ['tripduration', 'Start Time','End Time']\n",
    "    \n",
    "    cat_ftrs_i = [df.columns.get_loc(x) for x in cat_ftrs]\n",
    "    num_ftrs_i = [df.columns.get_loc(x) for x in num_ftrs]\n",
    "\n",
    "    categorical_transformer = Pipeline(steps=[('onehot', OneHotEncoder(sparse=False, handle_unknown = 'ignore'))])\n",
    "    numeric_transformer = Pipeline(steps=[('scaler', StandardScaler())])\n",
    "\n",
    "\n",
    "    # collect the transformers\n",
    "    preprocessor = ColumnTransformer(\n",
    "        transformers=[\n",
    "            ('num', numeric_transformer, num_ftrs_i),\n",
    "            ('cat', categorical_transformer, cat_ftrs_i)]) \n",
    "\n",
    "    pipe = make_pipeline(preprocessor, RandomForestClassifier(random_state = 22))\n",
    "    #pipe = make_pipeline(preprocess, LogisticRegression(penalty='l1', solver='saga', max_iter=10000))\n",
    "    \n",
    "    # the parameter(s) we want to tune\n",
    "    param_grid = {'randomforestclassifier__min_samples_split': range(2,25,5),\n",
    "                  'randomforestclassifier__max_depth': range(1,30,5)}\n",
    "    # prepare gridsearch\n",
    "    grid = GridSearchCV(pipe, param_grid=param_grid,scoring = make_scorer(accuracy_score),\n",
    "                            cv=kf, return_train_score = True,iid=True)\n",
    "    # do kfold CV on _other\n",
    "    print(\"running\")\n",
    "    grid.fit(X_other, y_other)\n",
    "    return grid, X_test, y_test\n"
   ]
  },
  {
   "cell_type": "markdown",
   "metadata": {},
   "source": [
    "* Used the random seed that was close to my test accuracy score"
   ]
  },
  {
   "cell_type": "code",
   "execution_count": 70,
   "metadata": {},
   "outputs": [
    {
     "name": "stdout",
     "output_type": "stream",
     "text": [
      "running\n",
      "0.9530024677817384\n",
      "0.9524018425093222\n",
      "{'randomforestclassifier__max_depth': 26, 'randomforestclassifier__min_samples_split': 22}\n"
     ]
    }
   ],
   "source": [
    "grid, X_test, y_test = ML_pipeline_kfold_GridSearchCV_RF(X,y,22,4)\n",
    "print(grid.best_score_)\n",
    "print(grid.score(X_test,y_test))\n",
    "print(grid.best_params_)\n",
    "\n",
    "# save the output so I can use it later\n",
    "import pickle\n",
    "file = open(d + '/results/RF_grid.save', 'wb')\n",
    "pickle.dump((grid,X_test,y_test),file)\n",
    "file.close()\n"
   ]
  },
  {
   "cell_type": "code",
   "execution_count": 71,
   "metadata": {},
   "outputs": [
    {
     "name": "stdout",
     "output_type": "stream",
     "text": [
      "test score =  0.9524018425093222\n",
      "test baseline =  0.9234481245887256\n",
      "shuffling start station name\n",
      "   shuffled test score: 0.935 +/- 0.002\n",
      "shuffling end station name\n",
      "   shuffled test score: 0.952 +/- 0.0\n",
      "shuffling gender\n",
      "   shuffled test score: 0.95 +/- 0.001\n",
      "shuffling tripduration\n",
      "   shuffled test score: 0.907 +/- 0.002\n",
      "shuffling Start Time\n",
      "   shuffled test score: 0.949 +/- 0.001\n",
      "shuffling End Time\n",
      "   shuffled test score: 0.95 +/- 0.001\n"
     ]
    }
   ],
   "source": [
    "file = open(d + '/results/RF_grid.save', 'rb')\n",
    "grid, X_test, y_test = pickle.load(file)\n",
    "file.close()\n",
    "\n",
    "nr_runs = 10\n",
    "scores = np.zeros([len(feature_names),nr_runs])\n",
    "\n",
    "test_score = grid.score(X_test,y_test)\n",
    "print('test score = ',test_score)\n",
    "print('test baseline = ',np.sum(y_test == \"Subscriber\")/len(y_test))\n",
    "# loop through the features\n",
    "for i in range(len(feature_names)):\n",
    "    print('shuffling '+str(feature_names[i]))\n",
    "    acc_scores = []\n",
    "    for j in range(nr_runs):\n",
    "        X_test_df = pd.DataFrame(X_test, columns = feature_names)\n",
    "        X_test_shuffled = X_test_df.copy()\n",
    "        X_test_shuffled[feature_names[i]] = np.random.permutation(X_test_df[feature_names[i]].values)\n",
    "        acc_scores.append(grid.score(X_test_shuffled,y_test))\n",
    "    print('   shuffled test score:',np.around(np.mean(acc_scores),3),'+/-',np.around(np.std(acc_scores),3))\n",
    "    scores[i] = acc_scores\n",
    "    "
   ]
  },
  {
   "cell_type": "code",
   "execution_count": 117,
   "metadata": {},
   "outputs": [
    {
     "data": {
      "text/plain": [
       "array([1, 5, 2, 4, 0, 3])"
      ]
     },
     "execution_count": 117,
     "metadata": {},
     "output_type": "execute_result"
    }
   ],
   "source": [
    "sorted_indcs = np.argsort(np.mean(scores,axis=1))[::-1]\n",
    "sorted_indcs"
   ]
  },
  {
   "cell_type": "code",
   "execution_count": 125,
   "metadata": {},
   "outputs": [],
   "source": [
    "sorted_feature_names = []\n",
    "sorted_feature_names.append(feature_names[1])\n",
    "sorted_feature_names.append(feature_names[5])\n",
    "sorted_feature_names.append(feature_names[2])\n",
    "sorted_feature_names.append(feature_names[4])\n",
    "sorted_feature_names.append(feature_names[0])\n",
    "sorted_feature_names.append(feature_names[3])\n"
   ]
  },
  {
   "cell_type": "code",
   "execution_count": 126,
   "metadata": {},
   "outputs": [
    {
     "data": {
      "text/plain": [
       "['start station name',\n",
       " 'end station name',\n",
       " 'gender',\n",
       " 'tripduration',\n",
       " 'Start Time',\n",
       " 'End Time']"
      ]
     },
     "execution_count": 126,
     "metadata": {},
     "output_type": "execute_result"
    }
   ],
   "source": [
    "feature_names"
   ]
  },
  {
   "cell_type": "code",
   "execution_count": 127,
   "metadata": {},
   "outputs": [
    {
     "data": {
      "text/plain": [
       "['end station name',\n",
       " 'End Time',\n",
       " 'gender',\n",
       " 'Start Time',\n",
       " 'start station name',\n",
       " 'tripduration']"
      ]
     },
     "execution_count": 127,
     "metadata": {},
     "output_type": "execute_result"
    }
   ],
   "source": [
    "sorted_feature_names"
   ]
  },
  {
   "cell_type": "code",
   "execution_count": 131,
   "metadata": {},
   "outputs": [
    {
     "data": {
      "image/png": "[encoded data removed]",
      "text/plain": [
       "<Figure size 576x432 with 1 Axes>"
      ]
     },
     "metadata": {
      "needs_background": "light"
     },
     "output_type": "display_data"
    }
   ],
   "source": [
    "sorted_indcs = np.argsort(np.mean(scores,axis=1))[::-1]\n",
    "plt.rcParams.update({'font.size': 14})\n",
    "plt.figure(figsize=(8,6))\n",
    "plt.boxplot(scores[sorted_indcs].T,labels=sorted_feature_names,vert=False)\n",
    "plt.axvline(test_score,label='test score')\n",
    "plt.title(\"Permutation Importances (test set)\")\n",
    "plt.xlabel('score with perturbed feature')\n",
    "plt.tight_layout()\n",
    "plt.legend()\n",
    "plt.savefig(d+'/figures/feature_importance',dpi = 300)\n",
    "plt.show()"
   ]
  },
  {
   "cell_type": "markdown",
   "metadata": {},
   "source": [
    "* **RandomForestClassification.feature_importances_**"
   ]
  },
  {
   "cell_type": "code",
   "execution_count": 88,
   "metadata": {},
   "outputs": [],
   "source": [
    "rndfor = grid.best_estimator_['randomforestclassifier']"
   ]
  },
  {
   "cell_type": "code",
   "execution_count": 89,
   "metadata": {},
   "outputs": [
    {
     "data": {
      "text/plain": [
       "array([2.38455053e-01, 5.56078554e-02, 4.39908762e-02, 3.18636771e-04,\n",
       "       1.29284355e-03, 1.84703479e-03, 2.64975592e-04, 5.19612040e-04,\n",
       "       2.77395118e-03, 2.07859896e-03, 1.41326341e-03, 1.66039272e-03,\n",
       "       0.00000000e+00, 2.06319764e-03, 3.84047096e-03, 2.69805050e-03,\n",
       "       0.00000000e+00, 1.13221680e-03, 1.47966857e-03, 1.52651287e-03,\n",
       "       3.48337658e-03, 1.62740050e-03, 7.53469841e-09, 2.10941026e-03,\n",
       "       1.48104112e-03, 5.45931754e-03, 2.14759813e-03, 1.55362808e-03,\n",
       "       1.35440304e-03, 1.26141999e-03, 1.04467663e-03, 6.00611296e-03,\n",
       "       0.00000000e+00, 5.15202741e-04, 1.70240700e-03, 9.96197390e-04,\n",
       "       7.56645396e-04, 1.50674160e-03, 1.98089268e-03, 1.11954695e-02,\n",
       "       5.22369738e-04, 0.00000000e+00, 1.03856508e-03, 4.21416974e-03,\n",
       "       1.44496137e-03, 7.54506956e-04, 5.49186441e-04, 3.18482134e-03,\n",
       "       0.00000000e+00, 1.81657782e-03, 3.01332446e-03, 3.95307904e-03,\n",
       "       5.23779282e-04, 2.49125884e-03, 2.13561765e-03, 7.71812334e-04,\n",
       "       2.75553773e-03, 9.93028420e-04, 8.49924743e-04, 1.93413409e-03,\n",
       "       1.93468132e-03, 8.46253189e-04, 2.09593337e-03, 0.00000000e+00,\n",
       "       1.25986306e-03, 2.15244791e-03, 1.26994454e-03, 6.15844121e-04,\n",
       "       6.62279083e-04, 1.57452012e-03, 2.17291818e-03, 2.09711474e-03,\n",
       "       1.48592802e-03, 0.00000000e+00, 1.86370579e-03, 1.67903124e-03,\n",
       "       1.96789254e-03, 0.00000000e+00, 7.54769182e-04, 2.67836969e-03,\n",
       "       8.55333381e-05, 3.95075126e-03, 3.47535582e-03, 1.96348754e-04,\n",
       "       7.61323829e-06, 8.72221352e-05, 1.46256210e-03, 4.90620438e-03,\n",
       "       3.09786893e-03, 5.29942636e-03, 1.06574681e-03, 1.01660595e-03,\n",
       "       1.89565025e-03, 2.70750086e-07, 3.79122786e-03, 1.41342979e-07,\n",
       "       1.53500848e-04, 2.14801614e-03, 7.08327523e-04, 1.40687298e-03,\n",
       "       1.63951832e-03, 2.02600368e-03, 6.81095244e-04, 1.25935607e-02,\n",
       "       7.56155368e-04, 0.00000000e+00, 1.91484185e-03, 4.74621523e-03,\n",
       "       8.55516182e-04, 1.26932025e-03, 2.00628407e-03, 1.90632956e-03,\n",
       "       1.68346101e-04, 1.91240369e-03, 3.28348483e-03, 4.12850894e-03,\n",
       "       5.72652354e-04, 0.00000000e+00, 2.69182201e-03, 9.09512992e-04,\n",
       "       2.38243511e-04, 1.67108835e-03, 0.00000000e+00, 9.00917063e-04,\n",
       "       2.04919583e-03, 9.88472572e-05, 2.54247740e-07, 3.20797586e-03,\n",
       "       2.88778661e-03, 0.00000000e+00, 7.14233765e-04, 3.01815032e-01,\n",
       "       8.51343218e-02, 5.32619745e-02])"
      ]
     },
     "execution_count": 89,
     "metadata": {},
     "output_type": "execute_result"
    }
   ],
   "source": [
    "rndfor.feature_importances_"
   ]
  },
  {
   "cell_type": "code",
   "execution_count": 83,
   "metadata": {},
   "outputs": [
    {
     "data": {
      "text/plain": [
       "GridSearchCV(cv=StratifiedKFold(n_splits=4, random_state=22, shuffle=True),\n",
       "             error_score='raise-deprecating',\n",
       "             estimator=Pipeline(memory=None,\n",
       "                                steps=[('columntransformer',\n",
       "                                        ColumnTransformer(n_jobs=None,\n",
       "                                                          remainder='drop',\n",
       "                                                          sparse_threshold=0.3,\n",
       "                                                          transformer_weights=None,\n",
       "                                                          transformers=[('num',\n",
       "                                                                         Pipeline(memory=None,\n",
       "                                                                                  steps=[('scaler',\n",
       "                                                                                          StandardScaler(copy=True,\n",
       "                                                                                                         with_mean...\n",
       "                                                               n_estimators='warn',\n",
       "                                                               n_jobs=None,\n",
       "                                                               oob_score=False,\n",
       "                                                               random_state=22,\n",
       "                                                               verbose=0,\n",
       "                                                               warm_start=False))],\n",
       "                                verbose=False),\n",
       "             iid=True, n_jobs=None,\n",
       "             param_grid={'randomforestclassifier__max_depth': range(1, 30, 5),\n",
       "                         'randomforestclassifier__min_samples_split': range(2, 25, 5)},\n",
       "             pre_dispatch='2*n_jobs', refit=True, return_train_score=True,\n",
       "             scoring=make_scorer(accuracy_score), verbose=0)"
      ]
     },
     "execution_count": 83,
     "metadata": {},
     "output_type": "execute_result"
    }
   ],
   "source": [
    "grid"
   ]
  },
  {
   "cell_type": "markdown",
   "metadata": {},
   "source": [
    "* Saving 10 RF models"
   ]
  },
  {
   "cell_type": "code",
   "execution_count": null,
   "metadata": {},
   "outputs": [],
   "source": []
  }
 ],
 "metadata": {
  "kernelspec": {
   "display_name": "Python 3",
   "language": "python",
   "name": "python3"
  },
  "language_info": {
   "codemirror_mode": {
    "name": "ipython",
    "version": 3
   },
   "file_extension": ".py",
   "mimetype": "text/x-python",
   "name": "python",
   "nbconvert_exporter": "python",
   "pygments_lexer": "ipython3",
   "version": "3.7.3"
  }
 },
 "nbformat": 4,
 "nbformat_minor": 2
}
